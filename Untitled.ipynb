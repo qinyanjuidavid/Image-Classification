{
 "cells": [
  {
   "cell_type": "markdown",
   "id": "fe09eee8",
   "metadata": {},
   "source": [
    "### Maize Leaf Disease Classification"
   ]
  },
  {
   "cell_type": "code",
   "execution_count": 1,
   "id": "73caab7e",
   "metadata": {},
   "outputs": [],
   "source": [
    "import PIL\n",
    "import numpy as np\n",
    "import os\n",
    "import tensorflow as tf\n",
    "import cv2\n",
    "import keras\n",
    "import pathlib\n",
    "import glob\n",
    "import matplotlib.pyplot as plt\n",
    "from tensorflow.keras import layers\n",
    "from tensorflow.keras.models import Sequential\n",
    "from sklearn.model_selection import train_test_split\n",
    "import numpy"
   ]
  },
  {
   "cell_type": "markdown",
   "id": "549ea2f3",
   "metadata": {},
   "source": [
    "### Loading the Images"
   ]
  },
  {
   "cell_type": "code",
   "execution_count": 2,
   "id": "a884f05d",
   "metadata": {},
   "outputs": [],
   "source": [
    "data_dir=pathlib.Path(os.getcwd()+\"/data/\")\n",
    "maize_leaf_disease_dict={\n",
    "    \"Blight\":list(glob.glob(f\"{data_dir}/Blight/*.jpg\")),\n",
    "    \"Common_Rust\":list(glob.glob(f\"{data_dir}/Common_Rust/*.jpg\")),\n",
    "    \"Gray_Leaf_Spot\":list(glob.glob(f\"{data_dir}/Gray_Leaf_Spot/*.jpg\")),\n",
    "    \"Healthy\":list(glob.glob(f\"{data_dir}/Healthy/*.jpg\"))\n",
    "}\n",
    "maize_leaf_disease_labels={\n",
    "    \"Blight\":0,\n",
    "    \"Common_Rust\":1,\n",
    "    \"Gray_Leaf_Spot\":2,\n",
    "    \"Healthy\":3,\n",
    "}"
   ]
  },
  {
   "cell_type": "code",
   "execution_count": 3,
   "id": "557efa1e",
   "metadata": {},
   "outputs": [
    {
     "name": "stdout",
     "output_type": "stream",
     "text": [
      "1145\n",
      "1306\n",
      "574\n",
      "1162\n"
     ]
    }
   ],
   "source": [
    "print(len(maize_leaf_disease_dict[\"Blight\"]))\n",
    "print(len(maize_leaf_disease_dict[\"Common_Rust\"]))\n",
    "print(len(maize_leaf_disease_dict[\"Gray_Leaf_Spot\"]))\n",
    "print(len(maize_leaf_disease_dict[\"Healthy\"]))"
   ]
  },
  {
   "cell_type": "markdown",
   "id": "4f1219d1",
   "metadata": {},
   "source": [
    "### Turning images into pixels"
   ]
  },
  {
   "cell_type": "code",
   "execution_count": 4,
   "id": "855bd4b5",
   "metadata": {},
   "outputs": [
    {
     "name": "stdout",
     "output_type": "stream",
     "text": [
      "[[[ 29  86  77]\n",
      "  [ 36  84  69]\n",
      "  [ 28  84  60]\n",
      "  ...\n",
      "  [  1 110  84]\n",
      "  [  1 103  75]\n",
      "  [  2 109  86]]\n",
      "\n",
      " [[ 19  83  66]\n",
      "  [ 24  79  58]\n",
      "  [ 27  87  62]\n",
      "  ...\n",
      "  [  3 115  87]\n",
      "  [  3 111  83]\n",
      "  [  8 109  86]]\n",
      "\n",
      " [[ 25  85  71]\n",
      "  [ 35  87  73]\n",
      "  [ 30  85  69]\n",
      "  ...\n",
      "  [  5 120  95]\n",
      "  [  4 118  96]\n",
      "  [ 14 121 103]]\n",
      "\n",
      " ...\n",
      "\n",
      " [[ 26 135  96]\n",
      "  [ 34 143 117]\n",
      "  [ 20 136 105]\n",
      "  ...\n",
      "  [ 15 125  88]\n",
      "  [ 16 124  85]\n",
      "  [ 12 123  81]]\n",
      "\n",
      " [[ 22 131  96]\n",
      "  [ 25 134 109]\n",
      "  [ 17 133 106]\n",
      "  ...\n",
      "  [ 10 122  83]\n",
      "  [ 11 116  79]\n",
      "  [ 11 118  80]]\n",
      "\n",
      " [[ 20 131  97]\n",
      "  [ 30 139 114]\n",
      "  [ 26 140 119]\n",
      "  ...\n",
      "  [ 15 124  84]\n",
      "  [ 14 117  81]\n",
      "  [ 13 113  75]]]\n",
      "[0, 0, 0, 0, 0]\n"
     ]
    }
   ],
   "source": [
    "x,y=[],[]\n",
    "for augmented_original,images in maize_leaf_disease_dict.items():\n",
    "    for image in images:\n",
    "        img=cv2.imread(str(image))#Convert image to pixels\n",
    "        resized_img=cv2.resize(img,(180,180))#Images to be of same size\n",
    "        x.append(resized_img)#Pixels\n",
    "        y.append(maize_leaf_disease_labels[augmented_original])#Label Random 0,1\n",
    "print(x[0])\n",
    "print(y[:5])\n",
    "x=np.array(x)\n",
    "y=np.array(y)"
   ]
  },
  {
   "cell_type": "markdown",
   "id": "def095fe",
   "metadata": {},
   "source": [
    "### Test, Train Split"
   ]
  },
  {
   "cell_type": "code",
   "execution_count": 5,
   "id": "ff5daec5",
   "metadata": {},
   "outputs": [
    {
     "name": "stdout",
     "output_type": "stream",
     "text": [
      "2930\n",
      "1257\n"
     ]
    }
   ],
   "source": [
    "x_train,x_test,y_train, y_test=train_test_split(x,y,test_size=0.3,random_state=0) #Splitting\n",
    "print(len(x_train))\n",
    "print(len(x_test))"
   ]
  },
  {
   "cell_type": "markdown",
   "id": "09053174",
   "metadata": {},
   "source": [
    "### Scaling"
   ]
  },
  {
   "cell_type": "code",
   "execution_count": 6,
   "id": "db295d95",
   "metadata": {},
   "outputs": [
    {
     "name": "stdout",
     "output_type": "stream",
     "text": [
      "[[[0.3372549  0.65882353 0.49019608]\n",
      "  [0.34901961 0.6627451  0.49411765]\n",
      "  [0.37254902 0.67058824 0.50588235]\n",
      "  ...\n",
      "  [0.43529412 0.70588235 0.57647059]\n",
      "  [0.4745098  0.74509804 0.61568627]\n",
      "  [0.4745098  0.74509804 0.61568627]]\n",
      "\n",
      " [[0.3254902  0.64705882 0.47843137]\n",
      "  [0.34509804 0.65882353 0.49019608]\n",
      "  [0.35686275 0.65490196 0.49019608]\n",
      "  ...\n",
      "  [0.44313725 0.70980392 0.58431373]\n",
      "  [0.47058824 0.7372549  0.61176471]\n",
      "  [0.47058824 0.73333333 0.60784314]]\n",
      "\n",
      " [[0.3372549  0.65098039 0.48235294]\n",
      "  [0.35686275 0.66666667 0.49803922]\n",
      "  [0.34901961 0.64313725 0.47843137]\n",
      "  ...\n",
      "  [0.47058824 0.73333333 0.60784314]\n",
      "  [0.49411765 0.75686275 0.63137255]\n",
      "  [0.49411765 0.75686275 0.63137255]]\n",
      "\n",
      " ...\n",
      "\n",
      " [[0.38431373 0.5254902  0.47843137]\n",
      "  [0.42745098 0.56078431 0.51764706]\n",
      "  [0.36862745 0.50588235 0.45882353]\n",
      "  ...\n",
      "  [0.54509804 0.74117647 0.70980392]\n",
      "  [0.54901961 0.7372549  0.70588235]\n",
      "  [0.56862745 0.75294118 0.71764706]]\n",
      "\n",
      " [[0.40392157 0.54509804 0.49803922]\n",
      "  [0.31372549 0.45098039 0.40784314]\n",
      "  [0.34117647 0.4745098  0.43137255]\n",
      "  ...\n",
      "  [0.54509804 0.73333333 0.70588235]\n",
      "  [0.53333333 0.71764706 0.69411765]\n",
      "  [0.54901961 0.72941176 0.70980392]]\n",
      "\n",
      " [[0.49803922 0.63921569 0.59215686]\n",
      "  [0.40392157 0.5372549  0.49411765]\n",
      "  [0.31764706 0.45098039 0.40784314]\n",
      "  ...\n",
      "  [0.54117647 0.72156863 0.69803922]\n",
      "  [0.49803922 0.67843137 0.65882353]\n",
      "  [0.47058824 0.64705882 0.63529412]]]\n"
     ]
    }
   ],
   "source": [
    "x_train_scaled=x_train/255\n",
    "x_test_scaled=x_test/255\n",
    "print(x_train_scaled[0])"
   ]
  },
  {
   "cell_type": "markdown",
   "id": "7f772f12",
   "metadata": {},
   "source": [
    "### Creating the CNN model"
   ]
  },
  {
   "cell_type": "code",
   "execution_count": 7,
   "id": "75001bac",
   "metadata": {},
   "outputs": [],
   "source": [
    "num_classes=4\n",
    "model=Sequential([\n",
    "    layers.Conv2D(16, 3, padding='same', activation='relu'),\n",
    "    layers.MaxPooling2D(),\n",
    "    layers.Conv2D(32, 3, padding='same', activation='relu'),\n",
    "    layers.MaxPooling2D(),\n",
    "    layers.Conv2D(64, 3, padding='same', activation='relu'),\n",
    "    layers.MaxPooling2D(),\n",
    "    layers.Flatten(),\n",
    "    layers.Dense(128,activation=\"relu\"),\n",
    "    layers.Dense(num_classes)\n",
    "])"
   ]
  },
  {
   "cell_type": "code",
   "execution_count": 8,
   "id": "96add438",
   "metadata": {},
   "outputs": [
    {
     "data": {
      "text/plain": [
       "9"
      ]
     },
     "execution_count": 8,
     "metadata": {},
     "output_type": "execute_result"
    }
   ],
   "source": [
    "len(model.layers)"
   ]
  },
  {
   "cell_type": "markdown",
   "id": "ba49c39e",
   "metadata": {},
   "source": [
    "### Compiling the Model"
   ]
  },
  {
   "cell_type": "code",
   "execution_count": 9,
   "id": "dba6d56d",
   "metadata": {},
   "outputs": [],
   "source": [
    "model.compile(optimizer=\"adam\",\n",
    "             loss=tf.keras.losses.SparseCategoricalCrossentropy(from_logits=True),\n",
    "              metrics=[\"accuracy\"]\n",
    "             )"
   ]
  },
  {
   "cell_type": "markdown",
   "id": "5c731f92",
   "metadata": {},
   "source": [
    "### Training the CNN Model"
   ]
  },
  {
   "cell_type": "code",
   "execution_count": null,
   "id": "3b823461",
   "metadata": {},
   "outputs": [
    {
     "name": "stdout",
     "output_type": "stream",
     "text": [
      "Epoch 1/30\n",
      "92/92 [==============================] - 43s 453ms/step - loss: 0.5464 - accuracy: 0.7785\n",
      "Epoch 2/30\n",
      "92/92 [==============================] - 45s 493ms/step - loss: 0.3265 - accuracy: 0.8659\n",
      "Epoch 3/30\n",
      "92/92 [==============================] - 45s 489ms/step - loss: 0.2479 - accuracy: 0.8969\n",
      "Epoch 4/30\n",
      "92/92 [==============================] - 44s 483ms/step - loss: 0.2146 - accuracy: 0.9102\n",
      "Epoch 5/30\n",
      "92/92 [==============================] - 48s 518ms/step - loss: 0.1927 - accuracy: 0.9205\n",
      "Epoch 6/30\n",
      "92/92 [==============================] - 50s 549ms/step - loss: 0.1407 - accuracy: 0.9502\n",
      "Epoch 7/30\n",
      "92/92 [==============================] - 57s 617ms/step - loss: 0.1430 - accuracy: 0.9529\n",
      "Epoch 8/30\n",
      "92/92 [==============================] - 45s 486ms/step - loss: 0.1080 - accuracy: 0.9577\n",
      "Epoch 9/30\n",
      "92/92 [==============================] - 49s 530ms/step - loss: 0.0602 - accuracy: 0.9802\n",
      "Epoch 10/30\n",
      "92/92 [==============================] - 46s 496ms/step - loss: 0.0567 - accuracy: 0.9826\n",
      "Epoch 11/30\n",
      "24/92 [======>.......................] - ETA: 34s - loss: 0.0247 - accuracy: 0.9974"
     ]
    }
   ],
   "source": [
    "model.fit(x_train_scaled,y_train,epochs=30)"
   ]
  },
  {
   "cell_type": "markdown",
   "id": "6b2a65e9",
   "metadata": {},
   "source": [
    "### Testing the CNN Model"
   ]
  },
  {
   "cell_type": "code",
   "execution_count": null,
   "id": "7ab9b608",
   "metadata": {},
   "outputs": [],
   "source": [
    "model.evaluate(x_test_scaled,y_test)"
   ]
  },
  {
   "cell_type": "markdown",
   "id": "fb31e9de",
   "metadata": {},
   "source": [
    "### Loading the test images"
   ]
  },
  {
   "cell_type": "code",
   "execution_count": null,
   "id": "cd071222",
   "metadata": {},
   "outputs": [],
   "source": [
    "test_images=list(glob.glob(f\"{os.getcwd()}/test_images/*.jpg\"))\n",
    "print(len(test_images))\n",
    "t=[]\n",
    "for image in test_images:\n",
    "    img=cv2.imread(str(image))\n",
    "    resized_img=cv2.resize(img,(180,180))\n",
    "    t.append(resized_img)\n",
    "t=np.array(t)\n",
    "t_scale=t/255\n",
    "print(t_scale)"
   ]
  },
  {
   "cell_type": "markdown",
   "id": "15f16609",
   "metadata": {},
   "source": [
    "### Prediction"
   ]
  },
  {
   "cell_type": "code",
   "execution_count": null,
   "id": "cfd2907e",
   "metadata": {},
   "outputs": [],
   "source": [
    "prediction=model.predict(t_scale)\n",
    "score=tf.nn.softmax(prediction[7]) #Picks the set of values in the tensor and picks the biggest on\n",
    "print(score)\n",
    "print(np.argmax(score)) "
   ]
  },
  {
   "cell_type": "markdown",
   "id": "291c965a",
   "metadata": {},
   "source": [
    "### Saving the model"
   ]
  },
  {
   "cell_type": "code",
   "execution_count": null,
   "id": "ad343f54",
   "metadata": {},
   "outputs": [],
   "source": [
    "model.save(\"image_classification\") "
   ]
  },
  {
   "cell_type": "code",
   "execution_count": null,
   "id": "803c738c",
   "metadata": {},
   "outputs": [],
   "source": []
  }
 ],
 "metadata": {
  "kernelspec": {
   "display_name": "Python 3",
   "language": "python",
   "name": "python3"
  },
  "language_info": {
   "codemirror_mode": {
    "name": "ipython",
    "version": 3
   },
   "file_extension": ".py",
   "mimetype": "text/x-python",
   "name": "python",
   "nbconvert_exporter": "python",
   "pygments_lexer": "ipython3",
   "version": "3.8.8"
  }
 },
 "nbformat": 4,
 "nbformat_minor": 5
}
